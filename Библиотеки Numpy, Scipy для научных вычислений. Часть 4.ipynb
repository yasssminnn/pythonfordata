{
 "cells": [
  {
   "cell_type": "code",
   "execution_count": 2,
   "id": "719c6b5a",
   "metadata": {},
   "outputs": [],
   "source": [
    "import numpy as np"
   ]
  },
  {
   "cell_type": "code",
   "execution_count": 5,
   "id": "06edc87d",
   "metadata": {},
   "outputs": [
    {
     "data": {
      "text/plain": [
       "array([[0., 0.],\n",
       "       [0., 0.],\n",
       "       [0., 0.]])"
      ]
     },
     "execution_count": 5,
     "metadata": {},
     "output_type": "execute_result"
    }
   ],
   "source": [
    "a = np.zeros (shape=(3,2))\n",
    "a"
   ]
  },
  {
   "cell_type": "code",
   "execution_count": 6,
   "id": "8c72eca9",
   "metadata": {},
   "outputs": [
    {
     "data": {
      "text/plain": [
       "(array([[ 0. , -0.1],\n",
       "        [ 0. ,  0. ],\n",
       "        [ 0. ,  0. ]]),\n",
       " array([[0., 0.],\n",
       "        [0., 0.],\n",
       "        [0., 0.]]))"
      ]
     },
     "execution_count": 6,
     "metadata": {},
     "output_type": "execute_result"
    }
   ],
   "source": [
    "b = np.zeros_like(a)#создание копии\n",
    "a[0][1]=-0.1\n",
    "a,b\n"
   ]
  },
  {
   "cell_type": "code",
   "execution_count": 7,
   "id": "f5f50825",
   "metadata": {},
   "outputs": [
    {
     "data": {
      "text/plain": [
       "array([1., 1., 1., 1., 1.])"
      ]
     },
     "execution_count": 7,
     "metadata": {},
     "output_type": "execute_result"
    }
   ],
   "source": [
    "np.ones(5)"
   ]
  },
  {
   "cell_type": "code",
   "execution_count": 8,
   "id": "95a89fa6",
   "metadata": {},
   "outputs": [
    {
     "data": {
      "text/plain": [
       "array([[1., 0., 0., 0.],\n",
       "       [0., 1., 0., 0.],\n",
       "       [0., 0., 1., 0.],\n",
       "       [0., 0., 0., 1.]])"
      ]
     },
     "execution_count": 8,
     "metadata": {},
     "output_type": "execute_result"
    }
   ],
   "source": [
    "np.eye(4)\n",
    "# единичная матрица "
   ]
  },
  {
   "cell_type": "code",
   "execution_count": 9,
   "id": "43ce295d",
   "metadata": {},
   "outputs": [
    {
     "data": {
      "text/plain": [
       "array([1, 2, 3, 4, 5, 6, 7, 8, 9])"
      ]
     },
     "execution_count": 9,
     "metadata": {},
     "output_type": "execute_result"
    }
   ],
   "source": [
    "np.arange(1,10) #создание монотонных последовательностих "
   ]
  },
  {
   "cell_type": "code",
   "execution_count": 10,
   "id": "5bd4dd93",
   "metadata": {},
   "outputs": [
    {
     "data": {
      "text/plain": [
       "array([1, 3, 5, 7, 9])"
      ]
     },
     "execution_count": 10,
     "metadata": {},
     "output_type": "execute_result"
    }
   ],
   "source": [
    "np.arange(1,10,2)"
   ]
  },
  {
   "cell_type": "code",
   "execution_count": 11,
   "id": "8c1839e9",
   "metadata": {},
   "outputs": [
    {
     "data": {
      "text/plain": [
       "array([1. , 1.5, 2. , 2.5, 3. , 3.5, 4. , 4.5, 5. , 5.5, 6. , 6.5, 7. ,\n",
       "       7.5, 8. , 8.5, 9. , 9.5])"
      ]
     },
     "execution_count": 11,
     "metadata": {},
     "output_type": "execute_result"
    }
   ],
   "source": [
    "np.arange(1,10,0.5)"
   ]
  },
  {
   "cell_type": "code",
   "execution_count": 13,
   "id": "95820235",
   "metadata": {},
   "outputs": [
    {
     "data": {
      "text/plain": [
       "array([0.  , 0.25, 0.5 , 0.75, 1.  ])"
      ]
     },
     "execution_count": 13,
     "metadata": {},
     "output_type": "execute_result"
    }
   ],
   "source": [
    "np.linspace(0,1, 5, endpoint = True)"
   ]
  },
  {
   "cell_type": "code",
   "execution_count": 14,
   "id": "cd2bb800",
   "metadata": {},
   "outputs": [
    {
     "data": {
      "text/plain": [
       "array([0.  , 0.25, 0.5 , 0.75, 1.  ])"
      ]
     },
     "execution_count": 14,
     "metadata": {},
     "output_type": "execute_result"
    }
   ],
   "source": [
    "np.linspace(0,1, 5)"
   ]
  },
  {
   "cell_type": "code",
   "execution_count": 15,
   "id": "fad295b5",
   "metadata": {},
   "outputs": [
    {
     "data": {
      "text/plain": [
       "array([[0, 1, 2, 3, 4],\n",
       "       [5, 6, 7, 8, 9]])"
      ]
     },
     "execution_count": 15,
     "metadata": {},
     "output_type": "execute_result"
    }
   ],
   "source": [
    "a = np.arange (10).reshape(2,-1)\n",
    "a"
   ]
  },
  {
   "cell_type": "code",
   "execution_count": 16,
   "id": "a2537ce1",
   "metadata": {},
   "outputs": [
    {
     "data": {
      "text/plain": [
       "array([[ 0,  3,  6,  9, 12],\n",
       "       [15, 18, 21, 24, 27]])"
      ]
     },
     "execution_count": 16,
     "metadata": {},
     "output_type": "execute_result"
    }
   ],
   "source": [
    "a*3"
   ]
  },
  {
   "cell_type": "code",
   "execution_count": 17,
   "id": "61cf7b69",
   "metadata": {},
   "outputs": [
    {
     "data": {
      "text/plain": [
       "array([[ 2,  3,  4,  5,  6],\n",
       "       [ 7,  8,  9, 10, 11]])"
      ]
     },
     "execution_count": 17,
     "metadata": {},
     "output_type": "execute_result"
    }
   ],
   "source": [
    "a+2"
   ]
  },
  {
   "cell_type": "code",
   "execution_count": 18,
   "id": "aa6db18c",
   "metadata": {},
   "outputs": [
    {
     "data": {
      "text/plain": [
       "array([[ 0,  3,  6,  9, 12],\n",
       "       [15, 18, 21, 24, 27]])"
      ]
     },
     "execution_count": 18,
     "metadata": {},
     "output_type": "execute_result"
    }
   ],
   "source": [
    "3*a"
   ]
  },
  {
   "cell_type": "code",
   "execution_count": 19,
   "id": "197bd3b1",
   "metadata": {},
   "outputs": [
    {
     "data": {
      "text/plain": [
       "array([[ 0,  1,  4,  9, 16],\n",
       "       [25, 36, 49, 64, 81]])"
      ]
     },
     "execution_count": 19,
     "metadata": {},
     "output_type": "execute_result"
    }
   ],
   "source": [
    "a*a"
   ]
  },
  {
   "cell_type": "code",
   "execution_count": 20,
   "id": "57909e42",
   "metadata": {},
   "outputs": [
    {
     "data": {
      "text/plain": [
       "array([[0.        , 1.        , 1.41421356, 1.73205081, 2.        ],\n",
       "       [2.23606798, 2.44948974, 2.64575131, 2.82842712, 3.        ]])"
      ]
     },
     "execution_count": 20,
     "metadata": {},
     "output_type": "execute_result"
    }
   ],
   "source": [
    "np.sqrt(a) #корень из всех элементов массива "
   ]
  },
  {
   "cell_type": "code",
   "execution_count": 21,
   "id": "8b2372fa",
   "metadata": {},
   "outputs": [
    {
     "data": {
      "text/plain": [
       "array([[  1,   2,   4,   8,  16],\n",
       "       [ 32,  64, 128, 256, 512]])"
      ]
     },
     "execution_count": 21,
     "metadata": {},
     "output_type": "execute_result"
    }
   ],
   "source": [
    "2 ** a"
   ]
  },
  {
   "cell_type": "code",
   "execution_count": 22,
   "id": "908370f1",
   "metadata": {},
   "outputs": [
    {
     "data": {
      "text/plain": [
       "array([[0.        , 0.69314718, 1.09861229, 1.38629436, 1.60943791],\n",
       "       [1.79175947, 1.94591015, 2.07944154, 2.19722458, 2.30258509]])"
      ]
     },
     "execution_count": 22,
     "metadata": {},
     "output_type": "execute_result"
    }
   ],
   "source": [
    "np.log (1+a)"
   ]
  },
  {
   "cell_type": "code",
   "execution_count": 23,
   "id": "ba460300",
   "metadata": {},
   "outputs": [
    {
     "data": {
      "text/plain": [
       "array([[0.        , 1.        , 1.5849625 , 2.        , 2.32192809],\n",
       "       [2.5849625 , 2.80735492, 3.        , 3.169925  , 3.32192809]])"
      ]
     },
     "execution_count": 23,
     "metadata": {},
     "output_type": "execute_result"
    }
   ],
   "source": [
    "np.log2(1+a)"
   ]
  },
  {
   "cell_type": "code",
   "execution_count": 24,
   "id": "d07aad76",
   "metadata": {},
   "outputs": [
    {
     "data": {
      "text/plain": [
       "array([[ 0.        ,  0.84147098,  0.90929743,  0.14112001, -0.7568025 ],\n",
       "       [-0.95892427, -0.2794155 ,  0.6569866 ,  0.98935825,  0.41211849]])"
      ]
     },
     "execution_count": 24,
     "metadata": {},
     "output_type": "execute_result"
    }
   ],
   "source": [
    "np.sin(a)"
   ]
  },
  {
   "cell_type": "code",
   "execution_count": 25,
   "id": "fdea71b5",
   "metadata": {},
   "outputs": [
    {
     "data": {
      "text/plain": [
       "array([[False,  True,  True,  True,  True],\n",
       "       [ True,  True,  True,  True,  True]])"
      ]
     },
     "execution_count": 25,
     "metadata": {},
     "output_type": "execute_result"
    }
   ],
   "source": [
    "np.greater(a,0) "
   ]
  },
  {
   "cell_type": "code",
   "execution_count": 30,
   "id": "4f8364e2",
   "metadata": {},
   "outputs": [
    {
     "data": {
      "text/plain": [
       "array([ 2,  3,  5, 10,  7,  2,  4])"
      ]
     },
     "execution_count": 30,
     "metadata": {},
     "output_type": "execute_result"
    }
   ],
   "source": [
    "np.random.seed(128)\n",
    "a=np.random.randint(0, 10, size=(7, ))\n",
    "a[3]=10\n",
    "a"
   ]
  },
  {
   "cell_type": "code",
   "execution_count": 34,
   "id": "796be6c7",
   "metadata": {},
   "outputs": [
    {
     "data": {
      "text/plain": [
       "(2, 10, 3, 33, 16800, 4.714285714285714)"
      ]
     },
     "execution_count": 34,
     "metadata": {},
     "output_type": "execute_result"
    }
   ],
   "source": [
    "a.min(),a.max(),a.argmax(),a.sum(),a.prod(),a.mean() #среднее"
   ]
  },
  {
   "cell_type": "code",
   "execution_count": 35,
   "id": "1dc881c0",
   "metadata": {},
   "outputs": [
    {
     "data": {
      "text/plain": [
       "array([[ 9,  9,  5,  1],\n",
       "       [ 4,  4,  9,  0],\n",
       "       [ 0,  8, 25,  4],\n",
       "       [ 0,  1,  2,  4]])"
      ]
     },
     "execution_count": 35,
     "metadata": {},
     "output_type": "execute_result"
    }
   ],
   "source": [
    "np.random.seed(16)\n",
    "a=np.random.randint (0, 10, size=(4,4))\n",
    "a[2,2]=25\n",
    "a"
   ]
  },
  {
   "cell_type": "code",
   "execution_count": 36,
   "id": "af22dde5",
   "metadata": {},
   "outputs": [
    {
     "data": {
      "text/plain": [
       "10"
      ]
     },
     "execution_count": 36,
     "metadata": {},
     "output_type": "execute_result"
    }
   ],
   "source": [
    "a.argmax() #порядковый номер в линейном исполнении"
   ]
  },
  {
   "cell_type": "code",
   "execution_count": 38,
   "id": "83d8983a",
   "metadata": {},
   "outputs": [
    {
     "data": {
      "text/plain": [
       "(2, 2)"
      ]
     },
     "execution_count": 38,
     "metadata": {},
     "output_type": "execute_result"
    }
   ],
   "source": [
    "i = np.argmax(a)\n",
    "i,j = i//a.shape[1], i% a.shape[1]\n",
    "(i,j)\n",
    "#index"
   ]
  },
  {
   "cell_type": "code",
   "execution_count": 40,
   "id": "b8a46a40",
   "metadata": {},
   "outputs": [
    {
     "data": {
      "text/plain": [
       "(2, 2)"
      ]
     },
     "execution_count": 40,
     "metadata": {},
     "output_type": "execute_result"
    }
   ],
   "source": [
    "np.unravel_index(np.argmax(a),a.shape)\n",
    "#index"
   ]
  },
  {
   "cell_type": "code",
   "execution_count": 41,
   "id": "00d8f6f8",
   "metadata": {},
   "outputs": [
    {
     "data": {
      "text/plain": [
       "(1, 3)"
      ]
     },
     "execution_count": 41,
     "metadata": {},
     "output_type": "execute_result"
    }
   ],
   "source": [
    "np.unravel_index(np.argmin(a),a.shape)"
   ]
  },
  {
   "cell_type": "code",
   "execution_count": 42,
   "id": "fcfaf8d0",
   "metadata": {},
   "outputs": [
    {
     "data": {
      "text/plain": [
       "array([[ 7,  5,  6,  8,  3,  7,  9],\n",
       "       [ 3,  5,  9, 15,  1,  3,  1],\n",
       "       [ 2,  3,  8,  2,  4,  2,  4]])"
      ]
     },
     "execution_count": 42,
     "metadata": {},
     "output_type": "execute_result"
    }
   ],
   "source": [
    "np.random.seed(32)\n",
    "a=np.random.randint (0, 10, size=(3,7))\n",
    "a[1,3]=15\n",
    "a"
   ]
  },
  {
   "cell_type": "code",
   "execution_count": 43,
   "id": "30b6e443",
   "metadata": {},
   "outputs": [
    {
     "data": {
      "text/plain": [
       "array([ 7,  5,  9, 15,  4,  7,  9])"
      ]
     },
     "execution_count": 43,
     "metadata": {},
     "output_type": "execute_result"
    }
   ],
   "source": [
    "a.max(axis=0)\n",
    "#максимальные элементы по столбцам "
   ]
  },
  {
   "cell_type": "code",
   "execution_count": 44,
   "id": "d5ec3439",
   "metadata": {},
   "outputs": [
    {
     "data": {
      "text/plain": [
       "array([ 9, 15,  8])"
      ]
     },
     "execution_count": 44,
     "metadata": {},
     "output_type": "execute_result"
    }
   ],
   "source": [
    "a.max(axis=1)\n",
    "#максимальные элементы по строкам"
   ]
  },
  {
   "cell_type": "code",
   "execution_count": 45,
   "id": "aef076a9",
   "metadata": {},
   "outputs": [
    {
     "data": {
      "text/plain": [
       "array([45, 37, 25])"
      ]
     },
     "execution_count": 45,
     "metadata": {},
     "output_type": "execute_result"
    }
   ],
   "source": [
    "a.sum(axis=1)\n",
    "#сумма по строкам"
   ]
  },
  {
   "cell_type": "code",
   "execution_count": 46,
   "id": "77af0793",
   "metadata": {},
   "outputs": [
    {
     "data": {
      "text/plain": [
       "(array([[ 3,  4],\n",
       "        [ 1,  9],\n",
       "        [ 5, 21],\n",
       "        [ 3,  8]]),\n",
       " array([[4, 6],\n",
       "        [7, 6],\n",
       "        [6, 1],\n",
       "        [4, 3]]))"
      ]
     },
     "execution_count": 46,
     "metadata": {},
     "output_type": "execute_result"
    }
   ],
   "source": [
    "np.random.seed(8)\n",
    "a=np.random.randint (0, 10, size=(4,2))\n",
    "a[2,1]=21\n",
    "\n",
    "np.random.seed(64)\n",
    "b=np.random.randint (0, 10, size=a.shape)\n",
    "\n",
    "a, b"
   ]
  },
  {
   "cell_type": "code",
   "execution_count": 47,
   "id": "6fbdf8f0",
   "metadata": {},
   "outputs": [
    {
     "data": {
      "text/plain": [
       "array([[12, 24],\n",
       "       [ 7, 54],\n",
       "       [30, 21],\n",
       "       [12, 24]])"
      ]
     },
     "execution_count": 47,
     "metadata": {},
     "output_type": "execute_result"
    }
   ],
   "source": [
    "a*b #поэлементное, а не матричное произведние "
   ]
  },
  {
   "cell_type": "code",
   "execution_count": 48,
   "id": "b6fefc53",
   "metadata": {},
   "outputs": [
    {
     "data": {
      "text/plain": [
       "array([[ 7, 10],\n",
       "       [ 8, 15],\n",
       "       [11, 22],\n",
       "       [ 7, 11]])"
      ]
     },
     "execution_count": 48,
     "metadata": {},
     "output_type": "execute_result"
    }
   ],
   "source": [
    "a+b"
   ]
  },
  {
   "cell_type": "code",
   "execution_count": 49,
   "id": "1e1b6bee",
   "metadata": {},
   "outputs": [
    {
     "data": {
      "text/plain": [
       "array([[ 4,  6],\n",
       "       [ 7,  9],\n",
       "       [ 6, 21],\n",
       "       [ 4,  8]])"
      ]
     },
     "execution_count": 49,
     "metadata": {},
     "output_type": "execute_result"
    }
   ],
   "source": [
    "np.fmax(a,b) #максимальные элементы по позиции"
   ]
  },
  {
   "cell_type": "code",
   "execution_count": 50,
   "id": "20827571",
   "metadata": {},
   "outputs": [
    {
     "data": {
      "text/plain": [
       "array([[False, False],\n",
       "       [False,  True],\n",
       "       [False,  True],\n",
       "       [False,  True]])"
      ]
     },
     "execution_count": 50,
     "metadata": {},
     "output_type": "execute_result"
    }
   ],
   "source": [
    "a>b"
   ]
  },
  {
   "cell_type": "code",
   "execution_count": 52,
   "id": "ce8767f7",
   "metadata": {},
   "outputs": [
    {
     "data": {
      "text/plain": [
       "array([ True,  True, False, False,  True])"
      ]
     },
     "execution_count": 52,
     "metadata": {},
     "output_type": "execute_result"
    }
   ],
   "source": [
    "a = np.asarray([True, True, False, False, True])\n",
    "a"
   ]
  },
  {
   "cell_type": "code",
   "execution_count": 53,
   "id": "cef3c78d",
   "metadata": {},
   "outputs": [
    {
     "data": {
      "text/plain": [
       "True"
      ]
     },
     "execution_count": 53,
     "metadata": {},
     "output_type": "execute_result"
    }
   ],
   "source": [
    "a.any() #есть хотя бы один элемент True"
   ]
  },
  {
   "cell_type": "code",
   "execution_count": 54,
   "id": "ac840b81",
   "metadata": {},
   "outputs": [
    {
     "data": {
      "text/plain": [
       "False"
      ]
     },
     "execution_count": 54,
     "metadata": {},
     "output_type": "execute_result"
    }
   ],
   "source": [
    "a.all() #все элементы True"
   ]
  },
  {
   "cell_type": "code",
   "execution_count": 55,
   "id": "af2c6c74",
   "metadata": {},
   "outputs": [
    {
     "data": {
      "text/plain": [
       "(array([[ True,  True, False, False,  True],\n",
       "        [ True, False, False,  True, False]]),\n",
       " array([ True,  True, False,  True,  True]),\n",
       " array([False, False]))"
      ]
     },
     "execution_count": 55,
     "metadata": {},
     "output_type": "execute_result"
    }
   ],
   "source": [
    "a = np.asarray([[True, True, False, False, True], \n",
    "              [True, False, False, True, False]])\n",
    "a, a.any(axis=0), a.all(axis=1)"
   ]
  },
  {
   "cell_type": "code",
   "execution_count": 56,
   "id": "254ffc1a",
   "metadata": {},
   "outputs": [
    {
     "data": {
      "text/plain": [
       "4"
      ]
     },
     "execution_count": 56,
     "metadata": {},
     "output_type": "execute_result"
    }
   ],
   "source": [
    "2+2"
   ]
  },
  {
   "cell_type": "code",
   "execution_count": 58,
   "id": "e64be94d",
   "metadata": {},
   "outputs": [
    {
     "data": {
      "text/plain": [
       "(array([[3, 4],\n",
       "        [1, 1],\n",
       "        [2, 0]]),\n",
       " array([[8, 5, 5],\n",
       "        [9, 6, 8]]))"
      ]
     },
     "execution_count": 58,
     "metadata": {},
     "output_type": "execute_result"
    }
   ],
   "source": [
    "np.random.seed(8)\n",
    "A = np.random.randint (0,5, size=(3,2))\n",
    "B = np.random.randint (5,10, size=(2,3))\n",
    "A, B"
   ]
  },
  {
   "cell_type": "code",
   "execution_count": 59,
   "id": "75050940",
   "metadata": {},
   "outputs": [
    {
     "data": {
      "text/plain": [
       "array([[60, 39, 47],\n",
       "       [17, 11, 13],\n",
       "       [16, 10, 10]])"
      ]
     },
     "execution_count": 59,
     "metadata": {},
     "output_type": "execute_result"
    }
   ],
   "source": [
    "A@B #матричное умножение"
   ]
  },
  {
   "cell_type": "code",
   "execution_count": 60,
   "id": "5ffab594",
   "metadata": {},
   "outputs": [
    {
     "data": {
      "text/plain": [
       "array([[60, 39, 47],\n",
       "       [17, 11, 13],\n",
       "       [16, 10, 10]])"
      ]
     },
     "execution_count": 60,
     "metadata": {},
     "output_type": "execute_result"
    }
   ],
   "source": [
    "np.matmul(A, B) #матричное умножение"
   ]
  },
  {
   "cell_type": "code",
   "execution_count": 62,
   "id": "07ca1d96",
   "metadata": {},
   "outputs": [
    {
     "data": {
      "text/plain": [
       "(array([3, 4, 1, 1]), array([7, 5, 8, 5]))"
      ]
     },
     "execution_count": 62,
     "metadata": {},
     "output_type": "execute_result"
    }
   ],
   "source": [
    "np.random.seed(8)\n",
    "a = np.random.randint (0,5, size=(4,))\n",
    "b = np.random.randint (5,10, size=(4,))\n",
    "a, b"
   ]
  },
  {
   "cell_type": "code",
   "execution_count": 63,
   "id": "7ad7f6d6",
   "metadata": {},
   "outputs": [
    {
     "data": {
      "text/plain": [
       "(54,\n",
       " array([[60, 39, 47],\n",
       "        [17, 11, 13],\n",
       "        [16, 10, 10]]))"
      ]
     },
     "execution_count": 63,
     "metadata": {},
     "output_type": "execute_result"
    }
   ],
   "source": [
    "np.dot (a, b), np.dot (A,B) #скалярное произведение "
   ]
  },
  {
   "cell_type": "code",
   "execution_count": 64,
   "id": "c7e643e0",
   "metadata": {},
   "outputs": [
    {
     "data": {
      "text/plain": [
       "54"
      ]
     },
     "execution_count": 64,
     "metadata": {},
     "output_type": "execute_result"
    }
   ],
   "source": [
    "a@b np.matmul(A, B) "
   ]
  },
  {
   "cell_type": "code",
   "execution_count": 69,
   "id": "c2bdc314",
   "metadata": {},
   "outputs": [
    {
     "data": {
      "text/plain": [
       "(array([[12,  4],\n",
       "        [ 1,  1],\n",
       "        [ 2,  0]]),\n",
       " array([[24,  5,  5],\n",
       "        [ 9,  6,  8]]))"
      ]
     },
     "execution_count": 69,
     "metadata": {},
     "output_type": "execute_result"
    }
   ],
   "source": [
    "A, B"
   ]
  },
  {
   "cell_type": "code",
   "execution_count": 70,
   "id": "1b90b905",
   "metadata": {},
   "outputs": [
    {
     "data": {
      "text/plain": [
       "(array([[12,  4],\n",
       "        [ 1,  1],\n",
       "        [ 2,  0]]),\n",
       " matrix([[12,  4],\n",
       "         [ 1,  1],\n",
       "         [ 2,  0]]),\n",
       " array([[24,  5,  5],\n",
       "        [ 9,  6,  8]]),\n",
       " matrix([[24,  5,  5],\n",
       "         [ 9,  6,  8]]))"
      ]
     },
     "execution_count": 70,
     "metadata": {},
     "output_type": "execute_result"
    }
   ],
   "source": [
    "C = np.asmatrix (A)  # matrix type \n",
    "D = np.matrix(B) # matrix type \n",
    "A [0][0]=12\n",
    "B [0][0]=24\n",
    "A,C,B,D"
   ]
  },
  {
   "cell_type": "code",
   "execution_count": 71,
   "id": "d59e1283",
   "metadata": {},
   "outputs": [
    {
     "data": {
      "text/plain": [
       "matrix([[324,  84,  92],\n",
       "        [ 33,  11,  13],\n",
       "        [ 48,  10,  10]])"
      ]
     },
     "execution_count": 71,
     "metadata": {},
     "output_type": "execute_result"
    }
   ],
   "source": [
    "F = C * D  # matrix type \n",
    "F"
   ]
  },
  {
   "cell_type": "code",
   "execution_count": 72,
   "id": "2f5ada8e",
   "metadata": {},
   "outputs": [
    {
     "data": {
      "text/plain": [
       "(array([[12,  4],\n",
       "        [ 1,  1],\n",
       "        [ 2,  0]]),\n",
       " array([[144,  16],\n",
       "        [  1,   1],\n",
       "        [  4,   0]]))"
      ]
     },
     "execution_count": 72,
     "metadata": {},
     "output_type": "execute_result"
    }
   ],
   "source": [
    "A, A ** 2 #каждый элемент возведен в квадрат "
   ]
  },
  {
   "cell_type": "code",
   "execution_count": 73,
   "id": "596422a4",
   "metadata": {},
   "outputs": [
    {
     "data": {
      "text/plain": [
       "(matrix([[324,  84,  92],\n",
       "         [ 33,  11,  13],\n",
       "         [ 48,  10,  10]]),\n",
       " matrix([[112164,  29060,  31820],\n",
       "         [ 11679,   3023,   3309],\n",
       "         [ 16362,   4242,   4646]]))"
      ]
     },
     "execution_count": 73,
     "metadata": {},
     "output_type": "execute_result"
    }
   ],
   "source": [
    " # matrix type \n",
    "F, F**2  #матричное возведение в степень "
   ]
  },
  {
   "cell_type": "code",
   "execution_count": 76,
   "id": "b73bf5d9",
   "metadata": {},
   "outputs": [
    {
     "data": {
      "text/plain": [
       "array([[3, 1, 2],\n",
       "       [1, 0, 0],\n",
       "       [3, 2, 0]])"
      ]
     },
     "execution_count": 76,
     "metadata": {},
     "output_type": "execute_result"
    }
   ],
   "source": [
    "np.random.seed(512)\n",
    "A = np.random.randint (0,5, size=(3,3))\n",
    "A\n"
   ]
  },
  {
   "cell_type": "code",
   "execution_count": 77,
   "id": "2fbfc872",
   "metadata": {},
   "outputs": [
    {
     "data": {
      "text/plain": [
       "4.0"
      ]
     },
     "execution_count": 77,
     "metadata": {},
     "output_type": "execute_result"
    }
   ],
   "source": [
    "# определитель \n",
    "np.linalg.det(A)"
   ]
  },
  {
   "cell_type": "code",
   "execution_count": 79,
   "id": "54699152",
   "metadata": {},
   "outputs": [
    {
     "data": {
      "text/plain": [
       "array([[ 0.  ,  1.  ,  0.  ],\n",
       "       [ 0.  , -1.5 ,  0.5 ],\n",
       "       [ 0.5 , -0.75, -0.25]])"
      ]
     },
     "execution_count": 79,
     "metadata": {},
     "output_type": "execute_result"
    }
   ],
   "source": [
    "A1 = np.linalg.inv(A)\n",
    "A1\n",
    "# обратная матрица"
   ]
  },
  {
   "cell_type": "code",
   "execution_count": 80,
   "id": "3ae0ae1d",
   "metadata": {},
   "outputs": [
    {
     "data": {
      "text/plain": [
       "array([[1., 0., 0.],\n",
       "       [0., 1., 0.],\n",
       "       [0., 0., 1.]])"
      ]
     },
     "execution_count": 80,
     "metadata": {},
     "output_type": "execute_result"
    }
   ],
   "source": [
    "A @ A1"
   ]
  },
  {
   "cell_type": "code",
   "execution_count": 81,
   "id": "3b21f5e7",
   "metadata": {},
   "outputs": [
    {
     "data": {
      "text/plain": [
       "(array([[3, 1, 2],\n",
       "        [1, 0, 0],\n",
       "        [3, 2, 0]]),\n",
       " array([ 1, -2,  1]))"
      ]
     },
     "execution_count": 81,
     "metadata": {},
     "output_type": "execute_result"
    }
   ],
   "source": [
    "b = np.array([1, -2, 1])\n",
    "A, b"
   ]
  },
  {
   "cell_type": "code",
   "execution_count": 82,
   "id": "8c30c8a8",
   "metadata": {},
   "outputs": [
    {
     "data": {
      "text/plain": [
       "array([-2.  ,  3.5 ,  1.75])"
      ]
     },
     "execution_count": 82,
     "metadata": {},
     "output_type": "execute_result"
    }
   ],
   "source": [
    "x = np.linalg.solve(A,b)\n",
    "x\n",
    "# решение системных уравнений "
   ]
  },
  {
   "cell_type": "code",
   "execution_count": 84,
   "id": "6db919bb",
   "metadata": {},
   "outputs": [
    {
     "data": {
      "text/plain": [
       "array([ 1., -2.,  1.])"
      ]
     },
     "execution_count": 84,
     "metadata": {},
     "output_type": "execute_result"
    }
   ],
   "source": [
    "A @ x # =b"
   ]
  },
  {
   "cell_type": "code",
   "execution_count": 85,
   "id": "234df2b2",
   "metadata": {},
   "outputs": [
    {
     "data": {
      "text/plain": [
       "(array([ 4.67882303+0.j        , -0.83941152+0.38769081j,\n",
       "        -0.83941152-0.38769081j]),\n",
       " array([[ 0.79497756+0.j        ,  0.45795361+0.13480762j,\n",
       "          0.45795361-0.13480762j],\n",
       "        [ 0.16990973+0.j        , -0.38851526-0.34003753j,\n",
       "         -0.38851526+0.34003753j],\n",
       "        [ 0.58235845+0.j        , -0.71101039+0.j        ,\n",
       "         -0.71101039-0.j        ]]))"
      ]
     },
     "execution_count": 85,
     "metadata": {},
     "output_type": "execute_result"
    }
   ],
   "source": [
    "lam, V = np.linalg.eig(A)\n",
    "lam, V"
   ]
  },
  {
   "cell_type": "code",
   "execution_count": 86,
   "id": "3f5cffe0",
   "metadata": {},
   "outputs": [
    {
     "data": {
      "text/plain": [
       "array([0.68233647, 0.32597119, 0.67656027, 0.88749116, 0.28003724,\n",
       "       0.82334775, 0.16825266, 0.54987075, 0.2304416 , 0.99234406])"
      ]
     },
     "execution_count": 86,
     "metadata": {},
     "output_type": "execute_result"
    }
   ],
   "source": [
    "np.random.rand(10)"
   ]
  },
  {
   "cell_type": "code",
   "execution_count": 91,
   "id": "b26c78f5",
   "metadata": {},
   "outputs": [
    {
     "data": {
      "text/plain": [
       "array([2, 3, 7, 4, 4, 8, 2, 2, 0, 8])"
      ]
     },
     "execution_count": 91,
     "metadata": {},
     "output_type": "execute_result"
    }
   ],
   "source": [
    "np.random.randint(0,10,10)"
   ]
  },
  {
   "cell_type": "code",
   "execution_count": 92,
   "id": "1a64775f",
   "metadata": {},
   "outputs": [
    {
     "data": {
      "text/plain": [
       "array([9, 4, 8, 2, 7, 6, 1, 0, 3, 5])"
      ]
     },
     "execution_count": 92,
     "metadata": {},
     "output_type": "execute_result"
    }
   ],
   "source": [
    "np.random.permutation(10)"
   ]
  },
  {
   "cell_type": "code",
   "execution_count": 94,
   "id": "408574e1",
   "metadata": {},
   "outputs": [
    {
     "data": {
      "text/plain": [
       "array([[5, 7, 5, 9, 8, 6, 1, 2, 7, 8],\n",
       "       [6, 9, 2, 7, 6, 0, 3, 9, 2, 4],\n",
       "       [9, 1, 8, 3, 5, 2, 1, 0, 5, 6]])"
      ]
     },
     "execution_count": 94,
     "metadata": {},
     "output_type": "execute_result"
    }
   ],
   "source": [
    "np.random.seed(2048)\n",
    "a = np.random.choice (10, size=(3,10))\n",
    "a"
   ]
  },
  {
   "cell_type": "code",
   "execution_count": 95,
   "id": "44ce831c",
   "metadata": {},
   "outputs": [
    {
     "data": {
      "text/plain": [
       "array([0, 0, 1, 1, 1, 2, 2, 2, 2, 3, 3, 4, 5, 5, 5, 5, 6, 6, 6, 6, 7, 7,\n",
       "       7, 8, 8, 8, 9, 9, 9, 9])"
      ]
     },
     "execution_count": 95,
     "metadata": {},
     "output_type": "execute_result"
    }
   ],
   "source": [
    "np.sort(a.ravel()) # сортировка "
   ]
  },
  {
   "cell_type": "code",
   "execution_count": 96,
   "id": "d8d385a3",
   "metadata": {},
   "outputs": [
    {
     "data": {
      "text/plain": [
       "array([[5, 1, 2, 3, 5, 0, 1, 0, 2, 4],\n",
       "       [6, 7, 5, 7, 6, 2, 1, 2, 5, 6],\n",
       "       [9, 9, 8, 9, 8, 6, 3, 9, 7, 8]])"
      ]
     },
     "execution_count": 96,
     "metadata": {},
     "output_type": "execute_result"
    }
   ],
   "source": [
    "a.sort (axis=0) #по столбцам\n",
    "a"
   ]
  },
  {
   "cell_type": "code",
   "execution_count": 97,
   "id": "d9725ad0",
   "metadata": {},
   "outputs": [
    {
     "data": {
      "text/plain": [
       "array([[0, 0, 1, 1, 2, 2, 3, 4, 5, 5],\n",
       "       [1, 2, 2, 5, 5, 6, 6, 6, 7, 7],\n",
       "       [3, 6, 7, 8, 8, 8, 9, 9, 9, 9]])"
      ]
     },
     "execution_count": 97,
     "metadata": {},
     "output_type": "execute_result"
    }
   ],
   "source": [
    "a.sort (axis=1) #по строкам\n",
    "a"
   ]
  },
  {
   "cell_type": "code",
   "execution_count": 98,
   "id": "c9854bf8",
   "metadata": {},
   "outputs": [
    {
     "data": {
      "text/plain": [
       "(array([[0, 0, 1, 1, 2, 2, 3, 4, 5, 5],\n",
       "        [1, 2, 2, 5, 5, 6, 6, 6, 7, 7],\n",
       "        [3, 6, 7, 8, 8, 8, 9, 9, 9, 9]]),\n",
       " array([[0, 0, 0, 0, 0, 0, 0, 0, 0, 0],\n",
       "        [1, 1, 1, 1, 1, 1, 1, 1, 1, 1],\n",
       "        [2, 2, 2, 2, 2, 2, 2, 2, 2, 2]]))"
      ]
     },
     "execution_count": 98,
     "metadata": {},
     "output_type": "execute_result"
    }
   ],
   "source": [
    "a, a.argsort (axis=0)"
   ]
  },
  {
   "cell_type": "code",
   "execution_count": 99,
   "id": "27acb5b7",
   "metadata": {},
   "outputs": [
    {
     "data": {
      "text/plain": [
       "(array([[0, 0, 1, 1, 2, 2, 3, 4, 5, 5],\n",
       "        [1, 2, 2, 5, 5, 6, 6, 6, 7, 7],\n",
       "        [3, 6, 7, 8, 8, 8, 9, 9, 9, 9]]),\n",
       " array([[0, 0, 0, 0, 0, 0, 0, 0, 0, 0],\n",
       "        [1, 1, 1, 1, 1, 1, 1, 1, 1, 1],\n",
       "        [2, 2, 2, 2, 2, 2, 2, 2, 2, 2]]))"
      ]
     },
     "execution_count": 99,
     "metadata": {},
     "output_type": "execute_result"
    }
   ],
   "source": [
    "a, a.argsort (axis=0)"
   ]
  },
  {
   "cell_type": "code",
   "execution_count": 100,
   "id": "57c8ca53",
   "metadata": {},
   "outputs": [
    {
     "data": {
      "text/plain": [
       "array([0, 1, 2, 3, 4, 5, 6, 7, 8, 9])"
      ]
     },
     "execution_count": 100,
     "metadata": {},
     "output_type": "execute_result"
    }
   ],
   "source": [
    "np.unique(a) #уникальные элементы"
   ]
  },
  {
   "cell_type": "code",
   "execution_count": null,
   "id": "d3417961",
   "metadata": {},
   "outputs": [],
   "source": []
  }
 ],
 "metadata": {
  "kernelspec": {
   "display_name": "Python 3 (ipykernel)",
   "language": "python",
   "name": "python3"
  },
  "language_info": {
   "codemirror_mode": {
    "name": "ipython",
    "version": 3
   },
   "file_extension": ".py",
   "mimetype": "text/x-python",
   "name": "python",
   "nbconvert_exporter": "python",
   "pygments_lexer": "ipython3",
   "version": "3.9.7"
  }
 },
 "nbformat": 4,
 "nbformat_minor": 5
}
