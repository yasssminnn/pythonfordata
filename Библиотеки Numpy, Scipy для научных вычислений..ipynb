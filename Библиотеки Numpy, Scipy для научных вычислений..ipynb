{
 "cells": [
  {
   "cell_type": "code",
   "execution_count": 1,
   "id": "e9f91cae",
   "metadata": {},
   "outputs": [],
   "source": [
    "import numpy as np"
   ]
  },
  {
   "cell_type": "code",
   "execution_count": 2,
   "id": "00d6136d",
   "metadata": {},
   "outputs": [
    {
     "data": {
      "text/plain": [
       "(array([1, 2, 3, 4, 5]), numpy.ndarray)"
      ]
     },
     "execution_count": 2,
     "metadata": {},
     "output_type": "execute_result"
    }
   ],
   "source": [
    "a = np.array([1, 2, 3, 4, 5]) \n",
    "a, type(a)"
   ]
  },
  {
   "cell_type": "code",
   "execution_count": 3,
   "id": "905e3dcd",
   "metadata": {},
   "outputs": [
    {
     "data": {
      "text/plain": [
       "(5,)"
      ]
     },
     "execution_count": 3,
     "metadata": {},
     "output_type": "execute_result"
    }
   ],
   "source": [
    "a.shape"
   ]
  },
  {
   "cell_type": "code",
   "execution_count": 4,
   "id": "344bd9e3",
   "metadata": {},
   "outputs": [
    {
     "name": "stdout",
     "output_type": "stream",
     "text": [
      "hello\n"
     ]
    }
   ],
   "source": [
    "tuple_1=(\"hello\"); print (tuple_1) #не кортеж"
   ]
  },
  {
   "cell_type": "code",
   "execution_count": 5,
   "id": "948960eb",
   "metadata": {},
   "outputs": [
    {
     "name": "stdout",
     "output_type": "stream",
     "text": [
      "('hello',)\n"
     ]
    }
   ],
   "source": [
    "tuple_1=(\"hello\",); print (tuple_1) #кортеж"
   ]
  },
  {
   "cell_type": "code",
   "execution_count": 6,
   "id": "ad6c5234",
   "metadata": {},
   "outputs": [
    {
     "data": {
      "text/plain": [
       "dtype('int64')"
      ]
     },
     "execution_count": 6,
     "metadata": {},
     "output_type": "execute_result"
    }
   ],
   "source": [
    "a.dtype"
   ]
  },
  {
   "cell_type": "code",
   "execution_count": 8,
   "id": "a447fb55",
   "metadata": {},
   "outputs": [
    {
     "data": {
      "text/plain": [
       "(array([1., 2., 3., 4., 5.]), dtype('float64'))"
      ]
     },
     "execution_count": 8,
     "metadata": {},
     "output_type": "execute_result"
    }
   ],
   "source": [
    "a = np.array ([1., 2., 3., 4., 5.]) #вещественные числа\n",
    "a, a.dtype"
   ]
  },
  {
   "cell_type": "code",
   "execution_count": 10,
   "id": "03914b63",
   "metadata": {},
   "outputs": [
    {
     "data": {
      "text/plain": [
       "(array([1., 2., 3., 4., 5.], dtype=float32), dtype('float32'))"
      ]
     },
     "execution_count": 10,
     "metadata": {},
     "output_type": "execute_result"
    }
   ],
   "source": [
    "a = np.array ([1., 2., 3., 4., 5.], dtype=np.float32) \n",
    "#вещественные числа, тип данных устанавливаем сами \n",
    "a, a.dtype"
   ]
  },
  {
   "cell_type": "code",
   "execution_count": 12,
   "id": "a498ddfe",
   "metadata": {},
   "outputs": [
    {
     "data": {
      "text/plain": [
       "array([  0,   1,   2,   3,   4,   5,   6,   7,   8,   9, 100,  11,  12,\n",
       "        13,  14])"
      ]
     },
     "execution_count": 12,
     "metadata": {},
     "output_type": "execute_result"
    }
   ],
   "source": [
    "a = np.arange(15) \n",
    "#the index starts with 0 and ends with n-1\n",
    "\n",
    "a[10] = 100 #shange 10th element \n",
    "\n",
    "a"
   ]
  },
  {
   "cell_type": "code",
   "execution_count": 13,
   "id": "7ba10735",
   "metadata": {},
   "outputs": [
    {
     "data": {
      "text/plain": [
       "(14, 14)"
      ]
     },
     "execution_count": 13,
     "metadata": {},
     "output_type": "execute_result"
    }
   ],
   "source": [
    "a[len(a)-1], a[-1] #index from end"
   ]
  },
  {
   "cell_type": "code",
   "execution_count": 15,
   "id": "85620c52",
   "metadata": {},
   "outputs": [],
   "source": [
    "#array[start=0: stop=len(array)-1:step=1]\n",
    "#получить срез из массива "
   ]
  },
  {
   "cell_type": "code",
   "execution_count": 20,
   "id": "0fa25c72",
   "metadata": {},
   "outputs": [
    {
     "data": {
      "text/plain": [
       "[array([1, 3])]"
      ]
     },
     "execution_count": 20,
     "metadata": {},
     "output_type": "execute_result"
    }
   ],
   "source": [
    "a = np.arange(15)\n",
    "variants = [a[1:5:2]]\n",
    "variants"
   ]
  },
  {
   "cell_type": "code",
   "execution_count": 23,
   "id": "562d0bd3",
   "metadata": {},
   "outputs": [
    {
     "data": {
      "text/plain": [
       "array([1, 3])"
      ]
     },
     "execution_count": 23,
     "metadata": {},
     "output_type": "execute_result"
    }
   ],
   "source": [
    "variants = a[slice(1, 5, 2)]\n",
    "variants"
   ]
  },
  {
   "cell_type": "code",
   "execution_count": 25,
   "id": "82b7d9bc",
   "metadata": {},
   "outputs": [
    {
     "data": {
      "text/plain": [
       "[array([ 0,  2,  4,  6,  8, 10, 12, 14])]"
      ]
     },
     "execution_count": 25,
     "metadata": {},
     "output_type": "execute_result"
    }
   ],
   "source": [
    "variants = [a[0: :2]] #четные позиции\n",
    "variants"
   ]
  },
  {
   "cell_type": "code",
   "execution_count": 26,
   "id": "7cbf71d8",
   "metadata": {},
   "outputs": [
    {
     "data": {
      "text/plain": [
       "[array([ 1,  3,  5,  7,  9, 11, 13])]"
      ]
     },
     "execution_count": 26,
     "metadata": {},
     "output_type": "execute_result"
    }
   ],
   "source": [
    "variants = [a[1: :2]] #нечетные позиции\n",
    "variants"
   ]
  },
  {
   "cell_type": "code",
   "execution_count": 27,
   "id": "7cd2570a",
   "metadata": {},
   "outputs": [
    {
     "data": {
      "text/plain": [
       "[array([12,  9,  6,  3])]"
      ]
     },
     "execution_count": 27,
     "metadata": {},
     "output_type": "execute_result"
    }
   ],
   "source": [
    "variants = [a[3:13:3][::-1]] #в обратном порядке \n",
    "variants"
   ]
  },
  {
   "cell_type": "code",
   "execution_count": 29,
   "id": "bece8efa",
   "metadata": {},
   "outputs": [
    {
     "data": {
      "text/plain": [
       "(array([False,  True,  True, False,  True]),\n",
       " array([1, 2, 3, 4, 5]),\n",
       " array([2, 3, 5]))"
      ]
     },
     "execution_count": 29,
     "metadata": {},
     "output_type": "execute_result"
    }
   ],
   "source": [
    "a = np.array([1, 2, 3, 4, 5])\n",
    "mask = np.array ([False, True, True, False, True])\n",
    "mask, a, a[mask]"
   ]
  },
  {
   "cell_type": "code",
   "execution_count": 31,
   "id": "475f67c6",
   "metadata": {},
   "outputs": [
    {
     "data": {
      "text/plain": [
       "array([-1, -1,  3, -1, -2, -2,  1,  0, -2,  5,  6,  5, -1,  0,  1,  3, -2,\n",
       "        3,  3,  1, -2,  4,  4,  3,  4,  2,  2, -1, -2, -1,  6,  5, -2, -1])"
      ]
     },
     "execution_count": 31,
     "metadata": {},
     "output_type": "execute_result"
    }
   ],
   "source": [
    "np.random.seed(1024)\n",
    "\n",
    "a = np.random.randint(-2, 7, 34) \n",
    "#минимальный элемент(-2)\n",
    "#максимальный элемент(7)\n",
    "#количество элементов (34)\n",
    "a"
   ]
  },
  {
   "cell_type": "code",
   "execution_count": 32,
   "id": "37e8c091",
   "metadata": {},
   "outputs": [
    {
     "data": {
      "text/plain": [
       "array([-1, -1, -1, -2, -2, -2, -1, -2, -2, -1, -2, -1, -2, -1])"
      ]
     },
     "execution_count": 32,
     "metadata": {},
     "output_type": "execute_result"
    }
   ],
   "source": [
    "a[a<0]"
   ]
  },
  {
   "cell_type": "code",
   "execution_count": 33,
   "id": "edf99d5c",
   "metadata": {},
   "outputs": [
    {
     "data": {
      "text/plain": [
       "[array([3, 0, 6, 0, 3, 3, 3, 3, 6]), array([3, 0, 6, 0, 3, 3, 3, 3, 6])]"
      ]
     },
     "execution_count": 33,
     "metadata": {},
     "output_type": "execute_result"
    }
   ],
   "source": [
    "variants = [ a[a%3 == 0], \n",
    "            a [np.logical_not (a%3)]]\n",
    "variants"
   ]
  },
  {
   "cell_type": "code",
   "execution_count": 35,
   "id": "44c11b03",
   "metadata": {},
   "outputs": [
    {
     "data": {
      "text/plain": [
       "array([3, 6, 5, 4, 8, 1, 7, 6, 8, 0, 5, 0, 6, 2, 0, 5, 2, 6, 3, 7, 0, 0,\n",
       "       3])"
      ]
     },
     "execution_count": 35,
     "metadata": {},
     "output_type": "execute_result"
    }
   ],
   "source": [
    "np.random.seed(1234)\n",
    "\n",
    "a = np.random.randint(0, 9, 23) \n",
    "\n",
    "a"
   ]
  },
  {
   "cell_type": "code",
   "execution_count": 37,
   "id": "292a01ee",
   "metadata": {},
   "outputs": [
    {
     "data": {
      "text/plain": [
       "(array([ True,  True, False, False, False, False, False,  True, False,\n",
       "         True, False,  True,  True, False,  True, False, False,  True,\n",
       "         True, False,  True,  True,  True]),\n",
       " array([False, False,  True, False, False, False, False, False, False,\n",
       "         True,  True,  True, False, False,  True,  True, False, False,\n",
       "        False, False,  True,  True, False]),\n",
       " array([3, 6, 5, 4, 8, 1, 7, 6, 8, 0, 5, 0, 6, 2, 0, 5, 2, 6, 3, 7, 0, 0,\n",
       "        3]),\n",
       " [array([3, 6, 5, 6, 0, 5, 0, 6, 0, 5, 6, 3, 0, 0, 3]),\n",
       "  array([3, 6, 5, 6, 0, 5, 0, 6, 0, 5, 6, 3, 0, 0, 3])])"
      ]
     },
     "execution_count": 37,
     "metadata": {},
     "output_type": "execute_result"
    }
   ],
   "source": [
    "mask_3 = a % 3 == 0 \n",
    "mask_5 = a % 5 == 0\n",
    "\n",
    "variants = [a [np.logical_or(mask_3, mask_5)],\n",
    "           a [mask_3 | mask_5]]\n",
    "mask_3, mask_5, a, variants"
   ]
  },
  {
   "cell_type": "code",
   "execution_count": 38,
   "id": "d396612a",
   "metadata": {},
   "outputs": [
    {
     "data": {
      "text/plain": [
       "(array([ True,  True, False,  True, False]), (array([0, 1, 3]),))"
      ]
     },
     "execution_count": 38,
     "metadata": {},
     "output_type": "execute_result"
    }
   ],
   "source": [
    "mask = np.array ([True, True, False, True, False])\n",
    "mask, np.where(mask)"
   ]
  },
  {
   "cell_type": "code",
   "execution_count": 39,
   "id": "38d18682",
   "metadata": {},
   "outputs": [
    {
     "data": {
      "text/plain": [
       "(array([ 0,  1,  2,  3,  4,  5,  6,  7,  8, 10, 12, 13, 15, 16, 17, 18, 19,\n",
       "        22]),)"
      ]
     },
     "execution_count": 39,
     "metadata": {},
     "output_type": "execute_result"
    }
   ],
   "source": [
    "np.where(a>0) #индексы положительных элементов "
   ]
  },
  {
   "cell_type": "code",
   "execution_count": 40,
   "id": "b89b00d5",
   "metadata": {},
   "outputs": [
    {
     "data": {
      "text/plain": [
       "(array([[1, 2, 3, 4, 5],\n",
       "        [6, 7, 8, 9, 0]]),\n",
       " (2, 5),\n",
       " dtype('int64'))"
      ]
     },
     "execution_count": 40,
     "metadata": {},
     "output_type": "execute_result"
    }
   ],
   "source": [
    "a = np.array ([[1, 2, 3, 4, 5],\n",
    "              [6, 7, 8, 9, 0]]\n",
    "             )\n",
    "#список из списков с одинаковой длиной \n",
    "a, a.shape, a.dtype"
   ]
  },
  {
   "cell_type": "code",
   "execution_count": 41,
   "id": "d5af4444",
   "metadata": {},
   "outputs": [
    {
     "data": {
      "text/plain": [
       "2"
      ]
     },
     "execution_count": 41,
     "metadata": {},
     "output_type": "execute_result"
    }
   ],
   "source": [
    "a.ndim \n",
    "#количество измерений, размернось кортежа"
   ]
  },
  {
   "cell_type": "code",
   "execution_count": 43,
   "id": "71494a28",
   "metadata": {},
   "outputs": [
    {
     "data": {
      "text/plain": [
       "array([[ 0,  1,  2,  3,  4,  5],\n",
       "       [ 6,  7,  8,  9, 10, 11],\n",
       "       [12, 13, 14, 15, 16, 17],\n",
       "       [18, 19, 20, 21, 22, 23],\n",
       "       [24, 25, 26, 27, 28, 29]])"
      ]
     },
     "execution_count": 43,
     "metadata": {},
     "output_type": "execute_result"
    }
   ],
   "source": [
    "a = np.arange(30).reshape(5, -1)\n",
    "#пять строк (5), столбцов столько сколько нужно(-1)\n",
    "a"
   ]
  },
  {
   "cell_type": "code",
   "execution_count": 45,
   "id": "3460e647",
   "metadata": {},
   "outputs": [
    {
     "data": {
      "text/plain": [
       "(0, 2, 7, 28)"
      ]
     },
     "execution_count": 45,
     "metadata": {},
     "output_type": "execute_result"
    }
   ],
   "source": [
    "#индексация без копирования\n",
    "a[0,0], a[0,2], a[1,1], a[-1,-2]"
   ]
  },
  {
   "cell_type": "code",
   "execution_count": 48,
   "id": "0b1f1fb9",
   "metadata": {},
   "outputs": [
    {
     "data": {
      "text/plain": [
       "array([12, 13, 14, 15, 16, 17])"
      ]
     },
     "execution_count": 48,
     "metadata": {},
     "output_type": "execute_result"
    }
   ],
   "source": [
    "a[2],\n",
    "a[2, :]\n",
    "#строка с индексом 2 "
   ]
  },
  {
   "cell_type": "code",
   "execution_count": 49,
   "id": "bbdd1d6d",
   "metadata": {},
   "outputs": [
    {
     "data": {
      "text/plain": [
       "array([ 3,  9, 15, 21, 27])"
      ]
     },
     "execution_count": 49,
     "metadata": {},
     "output_type": "execute_result"
    }
   ],
   "source": [
    "a[:, 3]"
   ]
  },
  {
   "cell_type": "code",
   "execution_count": 50,
   "id": "33f7b1cc",
   "metadata": {},
   "outputs": [
    {
     "data": {
      "text/plain": [
       "array([[ 0,  2,  4],\n",
       "       [ 6,  8, 10],\n",
       "       [12, 14, 16],\n",
       "       [18, 20, 22],\n",
       "       [24, 26, 28]])"
      ]
     },
     "execution_count": 50,
     "metadata": {},
     "output_type": "execute_result"
    }
   ],
   "source": [
    "a[:,::2]\n",
    "#по строкам все нам нужно \n",
    "#по столбцам - все элементы с шагом 2 \n",
    "#получаем четные столбцы"
   ]
  },
  {
   "cell_type": "code",
   "execution_count": 51,
   "id": "7542db72",
   "metadata": {
    "scrolled": true
   },
   "outputs": [
    {
     "data": {
      "text/plain": [
       "(array([[ 0,  1,  2,  3,  4,  5],\n",
       "        [ 6,  7,  8,  9, 10, 11],\n",
       "        [12, 13, 14, 15, 16, 17],\n",
       "        [18, 19, 20, 21, 22, 23],\n",
       "        [24, 25, 26, 27, 28, 29]]),\n",
       " array([[20, 23],\n",
       "        [ 8, 11]]))"
      ]
     },
     "execution_count": 51,
     "metadata": {},
     "output_type": "execute_result"
    }
   ],
   "source": [
    "a, a[1::2,2::3] [::-1]\n",
    "# первый по последний с шагом два \n",
    "# со второго по последнюю с шагам три \n",
    "# обратная индексация "
   ]
  },
  {
   "cell_type": "code",
   "execution_count": 52,
   "id": "c04dbbf2",
   "metadata": {},
   "outputs": [
    {
     "data": {
      "text/plain": [
       "(array([[ 0,  1,  2,  3,  4,  5],\n",
       "        [ 6,  7,  8,  9, 10, 11],\n",
       "        [12, 13, 14, 15, 16, 17],\n",
       "        [18, 19, 20, 21, 22, 23],\n",
       "        [24, 25, 26, 27, 28, 29]]),\n",
       " array([[12, 13, 14, 15, 16, 17],\n",
       "        [24, 25, 26, 27, 28, 29],\n",
       "        [18, 19, 20, 21, 22, 23]]))"
      ]
     },
     "execution_count": 52,
     "metadata": {},
     "output_type": "execute_result"
    }
   ],
   "source": [
    "a = np.arange(30).reshape(5, -1)\n",
    "a, a[[2,4,3]]"
   ]
  },
  {
   "cell_type": "code",
   "execution_count": 53,
   "id": "6d4497f0",
   "metadata": {},
   "outputs": [
    {
     "data": {
      "text/plain": [
       "(array([[ 0,  1,  2,  3,  4,  5],\n",
       "        [ 6,  7,  8,  9, 10, 11],\n",
       "        [12, 13, 14, 15, 16, 17],\n",
       "        [18, 19, 20, 21, 22, 23],\n",
       "        [24, 25, 26, 27, 28, 29]]),\n",
       " array([[ 0,  5],\n",
       "        [ 6, 11],\n",
       "        [12, 17],\n",
       "        [18, 23],\n",
       "        [24, 29]]))"
      ]
     },
     "execution_count": 53,
     "metadata": {},
     "output_type": "execute_result"
    }
   ],
   "source": [
    "# нулевая и последняя строка \n",
    "a, a[:,[0,-1]]"
   ]
  },
  {
   "cell_type": "code",
   "execution_count": 55,
   "id": "c7f04e2d",
   "metadata": {},
   "outputs": [
    {
     "data": {
      "text/plain": [
       "array([[12, 17],\n",
       "       [24, 29],\n",
       "       [18, 23]])"
      ]
     },
     "execution_count": 55,
     "metadata": {},
     "output_type": "execute_result"
    }
   ],
   "source": [
    "# cross 2,4,5 and 0,5\n",
    "a[[2,4,3]][:,[0,-1]]"
   ]
  },
  {
   "cell_type": "code",
   "execution_count": 57,
   "id": "7646216a",
   "metadata": {},
   "outputs": [
    {
     "data": {
      "text/plain": [
       "(array([[[ 0,  1,  2,  3],\n",
       "         [ 4,  5,  6,  7],\n",
       "         [ 8,  9, 10, 11]],\n",
       " \n",
       "        [[12, 13, 14, 15],\n",
       "         [16, 17, 18, 19],\n",
       "         [20, 21, 22, 23]]]),\n",
       " array([[ 0,  4,  8],\n",
       "        [12, 16, 20]]),\n",
       " array([[ 0,  4,  8],\n",
       "        [12, 16, 20]]))"
      ]
     },
     "execution_count": 57,
     "metadata": {},
     "output_type": "execute_result"
    }
   ],
   "source": [
    "a = np.arange(24).reshape(2, 3, 4)\n",
    "# последовательность от 0 до 23, \n",
    "# массив из двух табличек размера 3 на 4\n",
    "a, a[...,0], a[:,:,0]\n",
    "#получаем все элементы с последним индексом 0\n",
    "#первые столбцы"
   ]
  },
  {
   "cell_type": "code",
   "execution_count": 58,
   "id": "872340cc",
   "metadata": {},
   "outputs": [
    {
     "data": {
      "text/plain": [
       "(array([[[ 0,  1,  2,  3],\n",
       "         [ 4,  5,  6,  7],\n",
       "         [ 8,  9, 10, 11]],\n",
       " \n",
       "        [[12, 13, 14, 15],\n",
       "         [16, 17, 18, 19],\n",
       "         [20, 21, 22, 23]]]),\n",
       " array([[ 0,  1,  2,  3],\n",
       "        [ 4,  5,  6,  7],\n",
       "        [ 8,  9, 10, 11]]))"
      ]
     },
     "execution_count": 58,
     "metadata": {},
     "output_type": "execute_result"
    }
   ],
   "source": [
    "a, a[0,:,:]\n",
    "#певая табличка "
   ]
  },
  {
   "cell_type": "code",
   "execution_count": 59,
   "id": "9696e9c7",
   "metadata": {
    "scrolled": true
   },
   "outputs": [
    {
     "data": {
      "text/plain": [
       "(array([[[ 0,  1,  2,  3],\n",
       "         [ 4,  5,  6,  7],\n",
       "         [ 8,  9, 10, 11]],\n",
       " \n",
       "        [[12, 13, 14, 15],\n",
       "         [16, 17, 18, 19],\n",
       "         [20, 21, 22, 23]]]),\n",
       " array([[ 0,  1,  2,  3],\n",
       "        [12, 13, 14, 15]]))"
      ]
     },
     "execution_count": 59,
     "metadata": {},
     "output_type": "execute_result"
    }
   ],
   "source": [
    "a, a[:,0,:] \n",
    "#первый номер строки "
   ]
  },
  {
   "cell_type": "code",
   "execution_count": null,
   "id": "0dcdd788",
   "metadata": {},
   "outputs": [],
   "source": []
  }
 ],
 "metadata": {
  "kernelspec": {
   "display_name": "Python 3 (ipykernel)",
   "language": "python",
   "name": "python3"
  },
  "language_info": {
   "codemirror_mode": {
    "name": "ipython",
    "version": 3
   },
   "file_extension": ".py",
   "mimetype": "text/x-python",
   "name": "python",
   "nbconvert_exporter": "python",
   "pygments_lexer": "ipython3",
   "version": "3.9.7"
  }
 },
 "nbformat": 4,
 "nbformat_minor": 5
}
