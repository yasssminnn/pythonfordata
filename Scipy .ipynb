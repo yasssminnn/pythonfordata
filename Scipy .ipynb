{
 "cells": [
  {
   "cell_type": "code",
   "execution_count": 2,
   "id": "3cc3e4e1",
   "metadata": {},
   "outputs": [
    {
     "data": {
      "text/plain": [
       "'1.7.1'"
      ]
     },
     "execution_count": 2,
     "metadata": {},
     "output_type": "execute_result"
    }
   ],
   "source": [
    "import scipy\n",
    "scipy.__version__"
   ]
  },
  {
   "cell_type": "code",
   "execution_count": 3,
   "id": "8b78f060",
   "metadata": {},
   "outputs": [],
   "source": [
    "from scipy.integrate import quad, dblquad, tplquad"
   ]
  },
  {
   "cell_type": "code",
   "execution_count": 5,
   "id": "0a7bd174",
   "metadata": {},
   "outputs": [],
   "source": [
    "import numpy as np "
   ]
  },
  {
   "cell_type": "code",
   "execution_count": 8,
   "id": "109c8a4e",
   "metadata": {},
   "outputs": [
    {
     "name": "stdout",
     "output_type": "stream",
     "text": [
      "0.7468241328124271 8.291413475940725e-15\n"
     ]
    }
   ],
   "source": [
    "f = lambda x: np.exp(-x**2)\n",
    "a = 0; b = 1\n",
    "\n",
    "integr, abs_err = quad(f, a, b)\n",
    "print ((integr), (abs_err))"
   ]
  },
  {
   "cell_type": "code",
   "execution_count": 11,
   "id": "2626b1e8",
   "metadata": {},
   "outputs": [
    {
     "name": "stdout",
     "output_type": "stream",
     "text": [
      "1.5707963267841654 1.4890365878106507e-08\n"
     ]
    }
   ],
   "source": [
    "f = lambda x, y: np.exp(-x**2-y**2)\n",
    "# пределы по иксу (плюс и минус бесконечность)\n",
    "# пределы по игрику ( y = - ,tcrjytxyjcnm y = x)\n",
    "integr, abs_err = dblquad(f, -np.Inf, np.Inf, lambda x: -np.Inf, lambda x: x)\n",
    "print ((integr), (abs_err))"
   ]
  },
  {
   "cell_type": "code",
   "execution_count": 10,
   "id": "768d9633",
   "metadata": {},
   "outputs": [
    {
     "name": "stdout",
     "output_type": "stream",
     "text": [
      "0.25 2.7755575615628914e-15\n"
     ]
    }
   ],
   "source": [
    "f = lambda x, n: x**n\n",
    "a = 0; b = 1\n",
    "\n",
    "integr, abs_err = quad(f, a, b, args = (3,))\n",
    "print ((integr), (abs_err))"
   ]
  },
  {
   "cell_type": "code",
   "execution_count": 13,
   "id": "4c81c78b",
   "metadata": {},
   "outputs": [],
   "source": [
    "from scipy.integrate import odeint, ode"
   ]
  },
  {
   "cell_type": "code",
   "execution_count": 14,
   "id": "240d8adf",
   "metadata": {},
   "outputs": [],
   "source": [
    "def f(y, t, zeta, w0): \n",
    "    x, p = y[0], y[1]\n",
    "    \n",
    "    dx = p \n",
    "    dp = -2 * zeta * w0 * p -w0**2 * x\n",
    "    \n",
    "    return [dx, dp]"
   ]
  },
  {
   "cell_type": "code",
   "execution_count": 15,
   "id": "48115acd",
   "metadata": {},
   "outputs": [],
   "source": [
    "y0 = [1.0, 0.0]"
   ]
  },
  {
   "cell_type": "code",
   "execution_count": 17,
   "id": "f2797d9a",
   "metadata": {},
   "outputs": [],
   "source": [
    "t = np.linspace (0,10,1000)\n",
    "w0 = 2*np.pi*1.0"
   ]
  },
  {
   "cell_type": "code",
   "execution_count": null,
   "id": "ae8c4e0b",
   "metadata": {},
   "outputs": [],
   "source": [
    "y1 = odeint (f, y0, t, args=(0,0,w0))"
   ]
  }
 ],
 "metadata": {
  "kernelspec": {
   "display_name": "Python 3 (ipykernel)",
   "language": "python",
   "name": "python3"
  },
  "language_info": {
   "codemirror_mode": {
    "name": "ipython",
    "version": 3
   },
   "file_extension": ".py",
   "mimetype": "text/x-python",
   "name": "python",
   "nbconvert_exporter": "python",
   "pygments_lexer": "ipython3",
   "version": "3.9.7"
  }
 },
 "nbformat": 4,
 "nbformat_minor": 5
}
